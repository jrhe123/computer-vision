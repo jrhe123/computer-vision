{
 "cells": [
  {
   "cell_type": "code",
   "execution_count": 1,
   "metadata": {},
   "outputs": [],
   "source": [
    "import torch\n",
    "from torch import nn\n",
    "from torch.utils.data import DataLoader\n",
    "from torchvision import datasets\n",
    "from torchvision.transforms import ToTensor"
   ]
  },
  {
   "cell_type": "code",
   "execution_count": 2,
   "metadata": {},
   "outputs": [],
   "source": [
    "training_data = datasets.MNIST(\n",
    "    \"data\",\n",
    "    train=True,\n",
    "    download=True,\n",
    "    transform=ToTensor(),\n",
    ")\n",
    "\n",
    "test_data = datasets.MNIST(\n",
    "    \"data\",\n",
    "    train=False,\n",
    "    download=True,\n",
    "    transform=ToTensor(),\n",
    ")"
   ]
  },
  {
   "cell_type": "code",
   "execution_count": 3,
   "metadata": {},
   "outputs": [
    {
     "name": "stdout",
     "output_type": "stream",
     "text": [
      "torch.Size([64, 1, 28, 28])\n",
      "torch.Size([64])\n",
      "torch.Size([64, 1, 28, 28])\n",
      "torch.Size([64])\n"
     ]
    }
   ],
   "source": [
    "batch_size = 64\n",
    "\n",
    "train_data_loader = DataLoader(\n",
    "    training_data,\n",
    "    batch_size=batch_size,\n",
    "    shuffle=True,\n",
    ")\n",
    "test_data_loader = DataLoader(\n",
    "    test_data,\n",
    "    batch_size=batch_size,\n",
    "    shuffle=True,\n",
    ")\n",
    "\n",
    "for X, y in train_data_loader:\n",
    "    print(X.shape)\n",
    "    print(y.shape)\n",
    "    break\n",
    "\n",
    "for X, y in test_data_loader:\n",
    "    print(X.shape)\n",
    "    print(y.shape)\n",
    "    break"
   ]
  },
  {
   "cell_type": "code",
   "execution_count": 17,
   "metadata": {},
   "outputs": [],
   "source": [
    "class NeualNetwork(nn.Module):\n",
    "    def __init__(self):\n",
    "        super(NeualNetwork, self).__init__()\n",
    "        self.model = nn.Sequential(\n",
    "            nn.Conv2d(1, 32, 3),\n",
    "            nn.BatchNorm2d(32),\n",
    "            nn.ReLU(),\n",
    "            nn.MaxPool2d(2, 2),\n",
    "            nn.Conv2d(32, 64, 3),\n",
    "            nn.BatchNorm2d(64),\n",
    "            nn.ReLU(),\n",
    "            nn.MaxPool2d(2, 2),\n",
    "            nn.Flatten(),\n",
    "            nn.Linear(5 * 5 * 64, 128),\n",
    "            nn.BatchNorm1d(128),\n",
    "            nn.ReLU(),\n",
    "            nn.Dropout(0.2),\n",
    "            nn.Linear(128, 10)\n",
    "        )\n",
    "\n",
    "    def forward(self, x):\n",
    "        output = self.model(x)\n",
    "        return output\n"
   ]
  },
  {
   "cell_type": "code",
   "execution_count": 18,
   "metadata": {},
   "outputs": [],
   "source": [
    "device = (\n",
    "    \"cuda\" if torch.cuda.is_available() else \"mps\" if torch.backends.mps.is_available() else \"cpu\"\n",
    ")\n",
    "\n",
    "model = NeualNetwork().to(device)"
   ]
  },
  {
   "cell_type": "code",
   "execution_count": 19,
   "metadata": {},
   "outputs": [
    {
     "name": "stdout",
     "output_type": "stream",
     "text": [
      "NeualNetwork(\n",
      "  (model): Sequential(\n",
      "    (0): Conv2d(1, 32, kernel_size=(3, 3), stride=(1, 1))\n",
      "    (1): BatchNorm2d(32, eps=1e-05, momentum=0.1, affine=True, track_running_stats=True)\n",
      "    (2): ReLU()\n",
      "    (3): MaxPool2d(kernel_size=2, stride=2, padding=0, dilation=1, ceil_mode=False)\n",
      "    (4): Conv2d(32, 64, kernel_size=(3, 3), stride=(1, 1))\n",
      "    (5): BatchNorm2d(64, eps=1e-05, momentum=0.1, affine=True, track_running_stats=True)\n",
      "    (6): ReLU()\n",
      "    (7): MaxPool2d(kernel_size=2, stride=2, padding=0, dilation=1, ceil_mode=False)\n",
      "    (8): Flatten(start_dim=1, end_dim=-1)\n",
      "    (9): Linear(in_features=1600, out_features=128, bias=True)\n",
      "    (10): BatchNorm1d(128, eps=1e-05, momentum=0.1, affine=True, track_running_stats=True)\n",
      "    (11): ReLU()\n",
      "    (12): Dropout(p=0.2, inplace=False)\n",
      "    (13): Linear(in_features=128, out_features=10, bias=True)\n",
      "  )\n",
      ")\n"
     ]
    }
   ],
   "source": [
    "print(model)"
   ]
  },
  {
   "cell_type": "code",
   "execution_count": 20,
   "metadata": {},
   "outputs": [],
   "source": [
    "loss_fn = nn.CrossEntropyLoss()\n",
    "learning_rate = 1e-3\n",
    "optimizer = torch.optim.Adam(model.parameters(), lr=learning_rate)\n",
    "\n",
    "def train(dataloader, model, loss_fn, optimizer):\n",
    "    model.train()\n",
    "    size = len(dataloader.dataset)\n",
    "    correct, test_loss = 0, 0\n",
    "\n",
    "    for batch, (X, y) in enumerate(dataloader):\n",
    "        X, y = X.to(device), y.to(device) # move to device\n",
    "        pred = model(X)\n",
    "        loss = loss_fn(pred, y)\n",
    "        loss.backward()\n",
    "        optimizer.step()\n",
    "        optimizer.zero_grad()\n",
    "\n",
    "        test_loss += loss.item()\n",
    "        correct += (pred.argmax(1) == y).type(torch.float).sum().item()\n",
    "\n",
    "        if batch % 100 == 0:\n",
    "            loss, current = loss.item(), batch * len(X)\n",
    "            print(f\"loss: {loss:>7f}  [{current:>5d}/{size:>5d}]\")\n",
    "\n",
    "    test_loss /= len(dataloader)\n",
    "    correct /= size\n",
    "    print(f\"Train Error: \\n Accuracy: {(100*correct):>0.1f}%, Avg loss: {test_loss:>8f} \\n\")\n"
   ]
  },
  {
   "cell_type": "code",
   "execution_count": 21,
   "metadata": {},
   "outputs": [],
   "source": [
    "def test(dataloader, model, loss_fn):\n",
    "    model.eval()\n",
    "    num_batches = len(dataloader)\n",
    "    size = len(dataloader.dataset)\n",
    "\n",
    "    with torch.no_grad():\n",
    "        test_loss, correct = 0, 0\n",
    "        for X, y in dataloader:\n",
    "            X, y = X.to(device), y.to(device) # move to device\n",
    "            pred = model(X)\n",
    "            loss = loss_fn(pred, y)\n",
    "\n",
    "            test_loss += loss.item()\n",
    "            correct += (pred.argmax(1) == y).type(torch.float).sum().item()\n",
    "        \n",
    "        test_loss /= num_batches\n",
    "        correct /= size\n",
    "\n",
    "    print(f\"Test Error: \\n Accuracy: {(100*correct):>0.1f}%, Avg loss: {test_loss:>8f} \\n\")"
   ]
  },
  {
   "cell_type": "code",
   "execution_count": 22,
   "metadata": {},
   "outputs": [
    {
     "name": "stdout",
     "output_type": "stream",
     "text": [
      "Epoch 1/5\n",
      "loss: 2.417009  [    0/60000]\n",
      "loss: 0.195238  [ 6400/60000]\n",
      "loss: 0.065534  [12800/60000]\n",
      "loss: 0.038239  [19200/60000]\n",
      "loss: 0.040706  [25600/60000]\n",
      "loss: 0.110030  [32000/60000]\n",
      "loss: 0.011749  [38400/60000]\n",
      "loss: 0.030048  [44800/60000]\n",
      "loss: 0.025305  [51200/60000]\n",
      "loss: 0.062071  [57600/60000]\n",
      "Train Error: \n",
      " Accuracy: 97.2%, Avg loss: 0.118870 \n",
      "\n",
      "Test Error: \n",
      " Accuracy: 98.8%, Avg loss: 0.039771 \n",
      "\n",
      "Epoch 2/5\n",
      "loss: 0.007218  [    0/60000]\n",
      "loss: 0.031424  [ 6400/60000]\n",
      "loss: 0.033145  [12800/60000]\n",
      "loss: 0.014479  [19200/60000]\n",
      "loss: 0.045510  [25600/60000]\n",
      "loss: 0.011145  [32000/60000]\n",
      "loss: 0.009692  [38400/60000]\n",
      "loss: 0.055103  [44800/60000]\n",
      "loss: 0.113629  [51200/60000]\n",
      "loss: 0.010757  [57600/60000]\n",
      "Train Error: \n",
      " Accuracy: 98.7%, Avg loss: 0.043703 \n",
      "\n",
      "Test Error: \n",
      " Accuracy: 99.0%, Avg loss: 0.032147 \n",
      "\n",
      "Epoch 3/5\n",
      "loss: 0.009175  [    0/60000]\n",
      "loss: 0.004185  [ 6400/60000]\n",
      "loss: 0.031055  [12800/60000]\n",
      "loss: 0.021883  [19200/60000]\n",
      "loss: 0.279238  [25600/60000]\n",
      "loss: 0.006576  [32000/60000]\n",
      "loss: 0.009573  [38400/60000]\n",
      "loss: 0.021023  [44800/60000]\n",
      "loss: 0.009103  [51200/60000]\n",
      "loss: 0.026029  [57600/60000]\n",
      "Train Error: \n",
      " Accuracy: 99.0%, Avg loss: 0.032787 \n",
      "\n",
      "Test Error: \n",
      " Accuracy: 99.0%, Avg loss: 0.030358 \n",
      "\n",
      "Epoch 4/5\n",
      "loss: 0.004849  [    0/60000]\n",
      "loss: 0.010900  [ 6400/60000]\n",
      "loss: 0.005439  [12800/60000]\n",
      "loss: 0.055732  [19200/60000]\n",
      "loss: 0.008270  [25600/60000]\n",
      "loss: 0.002973  [32000/60000]\n",
      "loss: 0.001703  [38400/60000]\n",
      "loss: 0.087764  [44800/60000]\n",
      "loss: 0.004544  [51200/60000]\n",
      "loss: 0.063522  [57600/60000]\n",
      "Train Error: \n",
      " Accuracy: 99.2%, Avg loss: 0.024447 \n",
      "\n",
      "Test Error: \n",
      " Accuracy: 99.1%, Avg loss: 0.027714 \n",
      "\n",
      "Epoch 5/5\n",
      "loss: 0.006093  [    0/60000]\n",
      "loss: 0.001335  [ 6400/60000]\n",
      "loss: 0.004415  [12800/60000]\n",
      "loss: 0.019716  [19200/60000]\n",
      "loss: 0.008013  [25600/60000]\n",
      "loss: 0.013652  [32000/60000]\n",
      "loss: 0.003660  [38400/60000]\n",
      "loss: 0.052783  [44800/60000]\n",
      "loss: 0.004808  [51200/60000]\n",
      "loss: 0.021563  [57600/60000]\n",
      "Train Error: \n",
      " Accuracy: 99.3%, Avg loss: 0.021074 \n",
      "\n",
      "Test Error: \n",
      " Accuracy: 99.4%, Avg loss: 0.022449 \n",
      "\n",
      "finish training\n"
     ]
    }
   ],
   "source": [
    "epochs = 5\n",
    "for epoch in range(epochs):\n",
    "    print(f\"Epoch {epoch+1}/{epochs}\")\n",
    "    train(train_data_loader, model, loss_fn, optimizer)\n",
    "    test(test_data_loader, model, loss_fn)\n",
    "\n",
    "print(\"finish training\")"
   ]
  },
  {
   "cell_type": "code",
   "execution_count": 10,
   "metadata": {},
   "outputs": [
    {
     "name": "stdout",
     "output_type": "stream",
     "text": [
      "Saved pytorch model weight\n"
     ]
    }
   ],
   "source": [
    "torch.save(\n",
    "    model.state_dict(),\n",
    "    \"model_weight.pth\",\n",
    ")\n",
    "\n",
    "print(\"Saved pytorch model weight\")"
   ]
  },
  {
   "cell_type": "code",
   "execution_count": 11,
   "metadata": {},
   "outputs": [
    {
     "data": {
      "text/plain": [
       "<All keys matched successfully>"
      ]
     },
     "execution_count": 11,
     "metadata": {},
     "output_type": "execute_result"
    }
   ],
   "source": [
    "model_2 = NeualNetwork().to(device)\n",
    "\n",
    "model_2.load_state_dict(\n",
    "    torch.load(\n",
    "        \"model_weight.pth\",\n",
    "        weights_only=True,\n",
    "    )\n",
    ")"
   ]
  },
  {
   "cell_type": "code",
   "execution_count": null,
   "metadata": {},
   "outputs": [
    {
     "name": "stdout",
     "output_type": "stream",
     "text": [
      "Predicted: \"7\", Actual: \"7\"\n"
     ]
    }
   ],
   "source": [
    "model_2.eval()\n",
    "# 第一张图片\n",
    "X, y = test_data[0][0], test_data[0][1]\n",
    "\n",
    "with torch.no_grad():\n",
    "    X = X.to(device)\n",
    "    pred = model_2(X)\n",
    "    predicted, actual = pred[0].argmax(0), y\n",
    "    print(f'Predicted: \"{predicted}\", Actual: \"{actual}\"')"
   ]
  },
  {
   "cell_type": "code",
   "execution_count": 15,
   "metadata": {},
   "outputs": [
    {
     "data": {
      "image/png": "[encoded data removed]",
      "text/plain": [
       "<Figure size 640x480 with 1 Axes>"
      ]
     },
     "metadata": {},
     "output_type": "display_data"
    }
   ],
   "source": [
    "import matplotlib.pyplot as plt\n",
    "\n",
    "plt.imshow(X.cpu().numpy().squeeze())\n",
    "plt.show()"
   ]
  }
 ],
 "metadata": {
  "kernelspec": {
   "display_name": "computer-vision-env",
   "language": "python",
   "name": "python3"
  },
  "language_info": {
   "codemirror_mode": {
    "name": "ipython",
    "version": 3
   },
   "file_extension": ".py",
   "mimetype": "text/x-python",
   "name": "python",
   "nbconvert_exporter": "python",
   "pygments_lexer": "ipython3",
   "version": "3.12.8"
  }
 },
 "nbformat": 4,
 "nbformat_minor": 2
}
